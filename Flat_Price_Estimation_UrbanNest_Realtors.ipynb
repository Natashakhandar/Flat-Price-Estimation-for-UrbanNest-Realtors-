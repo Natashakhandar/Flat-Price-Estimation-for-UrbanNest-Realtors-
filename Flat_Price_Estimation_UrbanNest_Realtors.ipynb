{
 "cells": [
  {
   "cell_type": "markdown",
   "id": "cbe298a9",
   "metadata": {},
   "source": [
    "# Flat Price Estimation for UrbanNest Realtors\n",
    "**Date:** 2025-07-05\n",
    "\n",
    "This notebook walks through the complete machine‑learning pipeline to predict urban flat prices based on structured features."
   ]
  },
  {
   "cell_type": "markdown",
   "id": "b2a6cff5",
   "metadata": {},
   "source": [
    "## 1. Setup & Data Loading"
   ]
  },
  {
   "cell_type": "code",
   "execution_count": null,
   "id": "10341fd3",
   "metadata": {},
   "outputs": [],
   "source": [
    "\n",
    "import pandas as pd\n",
    "import numpy as np\n",
    "from pathlib import Path\n",
    "\n",
    "# Adjust the path if necessary\n",
    "CSV_PATH = Path('Flat Price Estimation for UrbanNest Realtors (1).csv')\n",
    "df = pd.read_csv(CSV_PATH)\n",
    "print(f\"Dataset shape: {df.shape}\")\n",
    "df.head()\n"
   ]
  },
  {
   "cell_type": "markdown",
   "id": "2c26d74b",
   "metadata": {},
   "source": [
    "## 2. Data Exploration"
   ]
  },
  {
   "cell_type": "code",
   "execution_count": null,
   "id": "233b1ceb",
   "metadata": {},
   "outputs": [],
   "source": [
    "\n",
    "df.info()\n",
    "df.describe().T\n"
   ]
  },
  {
   "cell_type": "markdown",
   "id": "bb5dd554",
   "metadata": {},
   "source": [
    "### 2.1 Correlation Heatmap"
   ]
  },
  {
   "cell_type": "code",
   "execution_count": null,
   "id": "c0e45f80",
   "metadata": {},
   "outputs": [],
   "source": [
    "\n",
    "import matplotlib.pyplot as plt\n",
    "\n",
    "corr = df.corr(numeric_only=True)\n",
    "fig, ax = plt.subplots(figsize=(6,4))\n",
    "im = ax.imshow(corr, cmap='viridis')\n",
    "ax.set_xticks(range(len(corr.columns)), corr.columns, rotation=45, ha='right')\n",
    "ax.set_yticks(range(len(corr.index)), corr.index)\n",
    "fig.colorbar(im, ax=ax, fraction=0.046, pad=0.04)\n",
    "plt.title('Feature Correlation')\n",
    "plt.tight_layout()\n",
    "plt.show()\n"
   ]
  },
  {
   "cell_type": "markdown",
   "id": "4624f772",
   "metadata": {},
   "source": [
    "## 3. Train‑Test Split & Preprocessing"
   ]
  },
  {
   "cell_type": "code",
   "execution_count": null,
   "id": "7a59ea09",
   "metadata": {},
   "outputs": [],
   "source": [
    "\n",
    "from sklearn.model_selection import train_test_split\n",
    "from sklearn.compose import ColumnTransformer\n",
    "from sklearn.preprocessing import StandardScaler\n",
    "from sklearn.pipeline import Pipeline\n",
    "\n",
    "X = df.drop('flat_price', axis=1)\n",
    "y = df['flat_price']\n",
    "\n",
    "numeric_features = X.columns.tolist()\n",
    "preprocessor = ColumnTransformer(\n",
    "    transformers=[('num', StandardScaler(), numeric_features)]\n",
    ")\n",
    "\n",
    "X_train, X_test, y_train, y_test = train_test_split(\n",
    "    X, y, test_size=0.2, random_state=42\n",
    ")\n"
   ]
  },
  {
   "cell_type": "markdown",
   "id": "ef5e12c0",
   "metadata": {},
   "source": [
    "## 4. Model Training & Evaluation"
   ]
  },
  {
   "cell_type": "code",
   "execution_count": null,
   "id": "6cfb946f",
   "metadata": {},
   "outputs": [],
   "source": [
    "\n",
    "from sklearn.linear_model import LinearRegression\n",
    "from sklearn.ensemble import RandomForestRegressor, GradientBoostingRegressor\n",
    "from sklearn.metrics import r2_score, mean_absolute_error, mean_squared_error\n",
    "import math, pandas as pd\n",
    "\n",
    "models = {\n",
    "    'Linear Regression': LinearRegression(),\n",
    "    'Random Forest': RandomForestRegressor(\n",
    "        n_estimators=300, random_state=42\n",
    "    ),\n",
    "    'Gradient Boosting': GradientBoostingRegressor(random_state=42)\n",
    "}\n",
    "\n",
    "results = []\n",
    "\n",
    "for name, model in models.items():\n",
    "    pipe = Pipeline(steps=[('prep', preprocessor), ('model', model)])\n",
    "    pipe.fit(X_train, y_train)\n",
    "    pred = pipe.predict(X_test)\n",
    "    results.append({\n",
    "        'Model': name,\n",
    "        'R2': r2_score(y_test, pred),\n",
    "        'MAE': mean_absolute_error(y_test, pred),\n",
    "        'RMSE': math.sqrt(mean_squared_error(y_test, pred)),\n",
    "        'Pipeline': pipe\n",
    "    })\n",
    "\n",
    "results_df = pd.DataFrame(results).drop(columns=['Pipeline'])\n",
    "results_df.sort_values('R2', ascending=False, inplace=True)\n",
    "results_df\n"
   ]
  },
  {
   "cell_type": "markdown",
   "id": "540f351f",
   "metadata": {},
   "source": [
    "### 4.1 Select Best Model"
   ]
  },
  {
   "cell_type": "code",
   "execution_count": null,
   "id": "9f715a45",
   "metadata": {},
   "outputs": [],
   "source": [
    "\n",
    "best_row = results_df.iloc[0]\n",
    "best_name = best_row['Model']\n",
    "best_pipeline = [r for r in results if r['Model'] == best_name][0]['Pipeline']\n",
    "print(f\"Best model: {best_name} with R2 = {best_row.R2:.4f}\")\n"
   ]
  },
  {
   "cell_type": "markdown",
   "id": "fea759d8",
   "metadata": {},
   "source": [
    "## 5. Feature Importance (Tree‑based models)"
   ]
  },
  {
   "cell_type": "code",
   "execution_count": null,
   "id": "90eda26b",
   "metadata": {},
   "outputs": [],
   "source": [
    "\n",
    "if hasattr(best_pipeline.named_steps['model'], 'feature_importances_'):\n",
    "    importances = best_pipeline.named_steps['model'].feature_importances_\n",
    "    feature_names = numeric_features\n",
    "    imp_df = pd.DataFrame({'Feature': feature_names, 'Importance': importances})\n",
    "    imp_df.sort_values('Importance', ascending=False, inplace=True)\n",
    "    imp_df.head(10)\n"
   ]
  },
  {
   "cell_type": "markdown",
   "id": "ebc52e61",
   "metadata": {},
   "source": [
    "## 6. Persist Model"
   ]
  },
  {
   "cell_type": "code",
   "execution_count": null,
   "id": "c242dfbb",
   "metadata": {},
   "outputs": [],
   "source": [
    "\n",
    "import joblib\n",
    "MODEL_PATH = Path('flat_price_model.pkl')\n",
    "joblib.dump(best_pipeline, MODEL_PATH)\n",
    "print(f'Model saved to {MODEL_PATH.resolve()}')\n"
   ]
  },
  {
   "cell_type": "markdown",
   "id": "12e684a8",
   "metadata": {},
   "source": [
    "## 7. Quick Prediction Example"
   ]
  },
  {
   "cell_type": "code",
   "execution_count": null,
   "id": "b027f045",
   "metadata": {},
   "outputs": [],
   "source": [
    "\n",
    "sample = X_test.iloc[:5]\n",
    "preds = best_pipeline.predict(sample)\n",
    "pd.DataFrame({'Actual': y_test.iloc[:5], 'Predicted': preds})\n"
   ]
  },
  {
   "cell_type": "markdown",
   "id": "3edacc1e",
   "metadata": {},
   "source": [
    "## 8. (Optional) Streamlit App Snippet"
   ]
  },
  {
   "cell_type": "markdown",
   "id": "324b6fc8",
   "metadata": {},
   "source": [
    "\n",
    "```python\n",
    "# Save this as app.py\n",
    "import streamlit as st\n",
    "import pandas as pd\n",
    "import joblib\n",
    "\n",
    "model = joblib.load('flat_price_model.pkl')\n",
    "\n",
    "st.title('Urban Flat Price Estimator')\n",
    "\n",
    "# Create input widgets\n",
    "area = st.number_input('Area (sqft)', 300, 5000, step=50)\n",
    "bedrooms = st.slider('Bedrooms', 1, 6, 2)\n",
    "distance = st.number_input('Distance to Metro (km)', 0.0, 20.0, step=0.1)\n",
    "age = st.slider('Age of Flat (years)', 0, 50, 5)\n",
    "amenities = st.slider('Amenities Score (0-10)', 0.0, 10.0, step=0.1)\n",
    "\n",
    "if st.button('Estimate Price'):\n",
    "    X_new = pd.DataFrame([{\n",
    "        'area_sqft': area,\n",
    "        'bedrooms': bedrooms,\n",
    "        'distance_to_metro_km': distance,\n",
    "        'age_of_flat_years': age,\n",
    "        'amenities_score': amenities\n",
    "    }])\n",
    "    price = model.predict(X_new)[0]\n",
    "    st.success(f'Estimated Price: ₹{price:,.0f}')\n",
    "```\n",
    "Run with:\n",
    "```bash\n",
    "streamlit run app.py\n",
    "```\n"
   ]
  }
 ],
 "metadata": {},
 "nbformat": 4,
 "nbformat_minor": 5
}
